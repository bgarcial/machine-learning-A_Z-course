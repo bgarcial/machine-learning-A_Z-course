{
 "cells": [
  {
   "cell_type": "code",
   "execution_count": 2,
   "metadata": {},
   "outputs": [],
   "source": [
    "# K-Means Clustering\n",
    "\n",
    "# Importing the libraries\n",
    "import numpy as np\n",
    "import matplotlib.pyplot as plt\n",
    "import pandas as pd"
   ]
  },
  {
   "cell_type": "markdown",
   "metadata": {},
   "source": [
    "En una tienda tipo mall, se tienen datos de información de sus clientes, los cuales están suscritos a \n",
    "una membresía con tarjeta de la tienda\n",
    "Cuando un cliente se subscribe, proporciona los siguientes datos:\n",
    "\n",
    "- Gender\n",
    "- Age\n",
    "- Annual Income\n",
    "\n",
    "Con esta tarjeta compran todo tipo de cosas en el centro comercial tiene el historial de compras \n",
    "de cada uno de sus clientes miembro y así es como obtuvieron la última columna del dataset\n",
    "`Spending Score (1-100)` que es un puntaje de gastos.\n",
    "\n",
    "`Spending Score` es un puntaje de cantidad calculada por cada uno de sus clientes basado en algunos criterios tales como\n",
    "por ejemplo:\n",
    "\n",
    "- Sus ingresos\n",
    "- La cantidad de veces por semana que aparecen en el centro comercial\n",
    "- Cantidad de dólares gastados en un año \n",
    "\n",
    "Basado en todoe esto, ellos calculan esta métrica `Spending Score (1-100)` que toma valores entre 1 y 100. Es como su puntaje de gamificación.\n",
    "\n",
    "De modo que el puntaje de gasto más cercano es de 2 1 y los gastos menos rechazados y cuanto más se acerque el gasto a 100, más gastado queda.\n",
    "\n",
    "Y eventualmente después de coleccionar estos datos, la compañía me ha contratado como científico de datos para segmentear\n",
    "sus clientes en dos diferentes grupos o clusters, basado en estas dos métricas de **Annual Income** and **Spending Score** pues el centro comercial no tiene idea de lo que podrían ser sus segmentos de clientes o incluso no tiene idea de cuántos segmentos de clientes habría \n",
    "\n",
    "Este es un problema típico de clustering, porque no conocemos las respuestas"
   ]
  },
  {
   "cell_type": "code",
   "execution_count": 36,
   "metadata": {},
   "outputs": [],
   "source": [
    "dataset = pd.read_csv('../../data/Mall_Customers.csv')\n"
   ]
  },
  {
   "cell_type": "code",
   "execution_count": 37,
   "metadata": {},
   "outputs": [],
   "source": [
    "# dataset[dataset['Spending Score (1-100)'] == 21]"
   ]
  },
  {
   "cell_type": "markdown",
   "metadata": {},
   "source": [
    "Usamos K-Means para encontrar cuales podrían ser esos grupos de clientes.\n",
    "\n",
    "Escogemos las columnas `Annual Income` y `Spending Score` que son las métricas que nos interesan "
   ]
  },
  {
   "cell_type": "code",
   "execution_count": 38,
   "metadata": {},
   "outputs": [],
   "source": [
    "# Queremos todos los registros de las columnas 3 y 4 que son los índices de Annual Income y Spending Score\n",
    "X = dataset.iloc[:, [3, 4]].values\n",
    "# y = dataset.iloc[:, 3].values"
   ]
  },
  {
   "cell_type": "code",
   "execution_count": 41,
   "metadata": {},
   "outputs": [],
   "source": [
    "# Hemos creado el arreglo numpy de las dos columnas\n",
    "# X"
   ]
  },
  {
   "cell_type": "markdown",
   "metadata": {},
   "source": [
    "Entonces, ya que no tenemos idea de qué buscar, en realidad no sabemos la cantidad de grupos de clientes que debemos buscar, es válido recordar que en la teoría de Kmeans, vimos que cuando usamos K-Means debemos escoger el número de clústers y esto es exactamente lo que haremos.\n",
    "\n",
    "Vamos a encontrar el número óptimo de clústers para nuestro problema y lo haremos utilizando el método de Elbow"
   ]
  },
  {
   "cell_type": "code",
   "execution_count": 44,
   "metadata": {},
   "outputs": [],
   "source": [
    "# Using the elbow method to find the optimal number of clusters\n",
    "from sklearn.cluster import KMeans"
   ]
  },
  {
   "cell_type": "markdown",
   "metadata": {},
   "source": [
    "Ahora dibujemos el gráfico del método de Elbow\n",
    "Para ello vamos a calcular la suma interna de los cuadrados de cada cluster para 10 diferentes números de clúster.\n",
    "Es decir iteraremos a través de 10 clústers y miraremos en cual de ellos se reduce la distancia de suma de cuadrados y ese será el número de clústers a utilizar\n",
    "\n",
    "Con un ciclo escribimos una lista de los 10 diferentes clusters con su respectiva suma de cuadrados"
   ]
  },
  {
   "cell_type": "code",
   "execution_count": 53,
   "metadata": {},
   "outputs": [],
   "source": [
    "# Inicializamos esa lista a que sea vacia - Within Clusters Sum Squared\n",
    "wcss= []\n",
    "for i in range(1,11): # 1 2 3 4 5 6 7 8 9 10\n",
    "    # En cada iteración hacemos dos cosas:\n",
    "    # 1. Ajustamos el algoritmo K-Means para nuestros datos contenidos en el array numpy X\n",
    "    #\n",
    "    # - n_clusters - numero de clusters. EStamos probando un núemero en particular para construir \n",
    "    # nuestro gráfico de método de Elbow, asi que el número será nuestra variable i que ira desde 1 a 10\n",
    "    #\n",
    "    # - init - Metodo de inicialización aleatoria. Puedo escoger random si quiero una eleccion aleatoria completa de mi\n",
    "    # centroide inicial, pero no queremos caer en la trampa de inicialización aleatoria \n",
    "    # https://docs.google.com/document/d/1DZ1vwyqwK1t3tPVbaLDvC_qH-WmaoI4zjN1x5B_iZM8/edit \n",
    "    # Asi que usaremos un poderoso método que es el KMeans ++ initialization method. que servirá para seleccionar\n",
    "    # el mejor centroide\n",
    "    #\n",
    "    # - max_iter - es el máximo de iteraciones que puede haber para encontrar los clusters finales cuando el algoritmo de\n",
    "    # K-Means esté ejecutándose. El valor por defecto para este parámetro es 300 y es el que seleccionaremos\n",
    "    #\n",
    "    # - n_init - El cual es el número de veces que el algoritmo K-Means se ejecutará con diferentes centroides iniciales\n",
    "    # El valor por defecto para este parámetro es 10 y ese seleccionaremos\n",
    "    #\n",
    "    # - random_state - Ajusta todos los factores aleatorios del proceso K-Means, si lo ponemos a 0 veremos los mismos\n",
    "    # resultados que el tutorial. POdemos quitarlo o darle otro valor para ver que sucede \n",
    "    #\n",
    "    # Existen otros parámetros que podemos adicionar como la tolerancia para la convergencia, pero no vamos a entrar en \n",
    "    # detalle para esto, lo dejamos en sus valores predeterminados  al no agregarlos en el paréntesis \n",
    "    # http://scikit-learn.org/stable/modules/generated/sklearn.cluster.KMeans.html\n",
    "    \n",
    "    kmeans = KMeans(n_clusters = i, init='k-means++', max_iter = 300)\n",
    "    \n",
    "    # Ajustamos nuestros datos array numpy X\n",
    "    kmeans.fit(X)\n",
    "    \n",
    "    # 2. Calculamos la suma de cuadrados dentro de cada clúster y la adicionamos a nuestra lista wcss\n",
    "    # sklearn tiene un atributo que calcula esta suma de cuadrados llamado inertia, entocnes lo calculamos\n",
    "    # esa suma de cuadrados y la adicionamos a la lista wcss\n",
    "    wcss.append(kmeans.inertia_)\n",
    "    \n",
    "# Ahora dibujamos el gráfico del método de Elbow\n",
    "# el valor del eje x (x axis) es de uno a 11 para que nos de los 10 clusters con los que vamos\n",
    "# a probar el metodo de Elbow\n",
    "# El valor del eje y (y axis) es wcss\n",
    "plt.plot(range(1,11), wcss)\n",
    "# Adicionamos el título a la gráfica\n",
    "plt.title('The Elbow Method')\n",
    "# Nombre para el eje x\n",
    "plt.xlabel('Number of Clusters')\n",
    "# Nombre para el eje y\n",
    "plt.ylabel('WCSS')\n",
    "# Desplegamos el gráfico y tenemos el método de Elbow\n",
    "plt.show()\n"
   ]
  },
  {
   "cell_type": "markdown",
   "metadata": {},
   "source": [
    "![alt text](https://cldup.com/R3Ffufqi1m-3000x3000.png \"Elbow Method\")"
   ]
  },
  {
   "cell_type": "markdown",
   "metadata": {},
   "source": [
    "El número óptimo de clústers resulta ser de cinco clústers que es en donde la diferencia de WCSS empieza a ser poca mientras desciende. ES ahi en donde esta el codo "
   ]
  },
  {
   "cell_type": "markdown",
   "metadata": {},
   "source": [
    "Ahora que tenemos el número correcto de clústers a empezar, hacemos el siguiente paso que es aplicar el algoritmo de K-Means a nuestros datos `X` pero esta vez con la cantidad correcta de clústers"
   ]
  },
  {
   "cell_type": "code",
   "execution_count": 56,
   "metadata": {},
   "outputs": [],
   "source": [
    "# Applying K-means to the mall dataset \n",
    "kmeans = KMeans(n_clusters = 5, init = 'k-means++', max_iter = 300, random_state = 0)\n"
   ]
  },
  {
   "cell_type": "markdown",
   "metadata": {},
   "source": [
    "Ajustamos los datos, pero no usamos esta vez el metodo `fit()`, usaremos el método `fit_predict()` que retorna por \n",
    "cada observación, a cual clúster pertenece\n",
    "\n",
    "Esto significa que para cada cliente solo de nuestro dataset, el método `fit_predict()` va a decirnos:\n",
    "\n",
    "- El clúster al que pertenece \n",
    "- El declive \n",
    "\n",
    "Devolverá estos números de clusters en un vector llamado `y_kmeans = kmeans.fit_predict(X)`\n",
    "\n"
   ]
  },
  {
   "cell_type": "code",
   "execution_count": 84,
   "metadata": {},
   "outputs": [],
   "source": [
    "y_kmeans = kmeans.fit_predict(X)"
   ]
  },
  {
   "cell_type": "markdown",
   "metadata": {},
   "source": [
    "Si miramos, tenemos un nuevo vector de números llamado `y_kmeans`"
   ]
  },
  {
   "cell_type": "code",
   "execution_count": 85,
   "metadata": {},
   "outputs": [
    {
     "data": {
      "text/plain": [
       "array([4, 3, 4, 3, 4, 3, 4, 3, 4, 3, 4, 3, 4, 3, 4, 3, 4, 3, 4, 3, 4, 3,\n",
       "       4, 3, 4, 3, 4, 3, 4, 3, 4, 3, 4, 3, 4, 3, 4, 3, 4, 3, 4, 3, 4, 1,\n",
       "       4, 3, 1, 1, 1, 1, 1, 1, 1, 1, 1, 1, 1, 1, 1, 1, 1, 1, 1, 1, 1, 1,\n",
       "       1, 1, 1, 1, 1, 1, 1, 1, 1, 1, 1, 1, 1, 1, 1, 1, 1, 1, 1, 1, 1, 1,\n",
       "       1, 1, 1, 1, 1, 1, 1, 1, 1, 1, 1, 1, 1, 1, 1, 1, 1, 1, 1, 1, 1, 1,\n",
       "       1, 1, 1, 1, 1, 1, 1, 1, 1, 1, 1, 1, 1, 2, 0, 2, 1, 2, 0, 2, 0, 2,\n",
       "       1, 2, 0, 2, 0, 2, 0, 2, 0, 2, 1, 2, 0, 2, 0, 2, 0, 2, 0, 2, 0, 2,\n",
       "       0, 2, 0, 2, 0, 2, 0, 2, 0, 2, 0, 2, 0, 2, 0, 2, 0, 2, 0, 2, 0, 2,\n",
       "       0, 2, 0, 2, 0, 2, 0, 2, 0, 2, 0, 2, 0, 2, 0, 2, 0, 2, 0, 2, 0, 2,\n",
       "       0, 2], dtype=int32)"
      ]
     },
     "execution_count": 85,
     "metadata": {},
     "output_type": "execute_result"
    }
   ],
   "source": [
    "# y_kmeans.reshape(-1,1)\n",
    "y_kmeans"
   ]
  },
  {
   "cell_type": "markdown",
   "metadata": {},
   "source": [
    "Y vemos que: \n",
    "- CustomerID 1 pertenece al cluster 4\n",
    "- CustomerID 2 pertenece al cluster 3\n",
    "- CustomerID 3 pertenece al cluster 4\n",
    "\n",
    "Y así sucesivamente\n",
    "\n",
    "Inline-style: \n",
    "![alt text](https://cldup.com/nSDetOaWOS-1200x1200.png \"Clusters a los cuales pertenece cada dato o registro\")\n",
    "\n"
   ]
  },
  {
   "cell_type": "markdown",
   "metadata": {},
   "source": [
    "El siguiente paso, es realmente el paso final y es en donde se pone bueno el asunto.\n",
    "Ya tenemos todo el trabajo hecho con nuestro algoritmo KMeans a nuestro conjunto de datos\n",
    "y ahora queremos ver los resultados, entonces vamos a tener un hermoso gráfico con nuestros 5 clústeres bien \n",
    "representados.\n",
    "\n",
    "Básicamente ubicaremos en un gráfico de dispersión todas nuestras observaciones sobre las cuales vamos a adicionar los centroides y a partir de ellos, destacar los clústers de una adecuada manera \n",
    "\n",
    "y empecemos por sangrar la salvación obvia que pertenece al grupo 1\n",
    "\n",
    "Notemos que en el vector `y_kmeans` los números de clústeres no son de 1 a 5 sino de 0 a 4 lo que significa que nuestro cluster 1  es `y_kmeans = 0`"
   ]
  },
  {
   "cell_type": "code",
   "execution_count": null,
   "metadata": {},
   "outputs": [],
   "source": [
    "## Esta seccion de VISUALIZACION ES SOLO PARA CLUSTERES CON 2 DIMENSIONES O VARIABLES\n",
    "\n",
    "Se puede mirar la tecnica de reducir la dimensionalidad de un dataset "
   ]
  },
  {
   "cell_type": "code",
   "execution_count": 86,
   "metadata": {},
   "outputs": [
    {
     "data": {
      "text/plain": [
       "<matplotlib.collections.PathCollection at 0x7f9391b072b0>"
      ]
     },
     "execution_count": 86,
     "metadata": {},
     "output_type": "execute_result"
    }
   ],
   "source": [
    "# Visualising the clusters\n",
    "\n",
    "# Le pasamos nuestro dataset X especificando solo los datos del cluster 1, es decir el 0\n",
    "# Luego especificamos que queremos la primera columna de nuestros datos X ponemos 0 porque ese es su índice\n",
    "# De esta manera tenemos las coordenadas X de todos los puntos de datos que pertenecen al cluster 1\n",
    "#\n",
    "# Luego hacemos lo mismo con las coordenadas Y, en donde le pasamos los datos del cluster 1 es decir el 0\n",
    "# y el 1 que corrresponde a la segunda columna de nuestro dataset X\n",
    "# Estas son las coordenadas Y\n",
    "#\n",
    "# s - Seleccionamos un tamaño para los puntos de datos, ya que no tenemos demasiadas observaciones una buena eleccion es 100\n",
    "#\n",
    "# c - color para nuestro cluster 1 \n",
    "#\n",
    "# label - nombre para nuestro cluster 1\n",
    "plt.scatter(X[y_kmeans == 0, 0], X[y_kmeans == 0, 1], s = 100, c = 'red', label = 'Cluster 1' ) \n",
    "\n"
   ]
  },
  {
   "cell_type": "markdown",
   "metadata": {},
   "source": [
    "Hacemos lo mismo para los otros 4 clusteres"
   ]
  },
  {
   "cell_type": "code",
   "execution_count": 87,
   "metadata": {},
   "outputs": [
    {
     "data": {
      "text/plain": [
       "<matplotlib.collections.PathCollection at 0x7f9391b13400>"
      ]
     },
     "execution_count": 87,
     "metadata": {},
     "output_type": "execute_result"
    }
   ],
   "source": [
    "# especificando solo los datos del cluster 2, es decir el 1\n",
    "# Luego especificamos que queremos la primera columna de nuestros datos X ponemos 0 porque ese es su índice\n",
    "# Lo mismo hacemos para las coordenadas Y\n",
    "# Ademas cambiamos los colores \n",
    "plt.scatter(X[y_kmeans == 1, 0], X[y_kmeans == 1, 1], s = 100, c = 'blue', label = 'Cluster 2' ) \n",
    "plt.scatter(X[y_kmeans == 2, 0], X[y_kmeans == 2, 1], s = 100, c = 'green', label = 'Cluster 3' ) \n",
    "plt.scatter(X[y_kmeans == 3, 0], X[y_kmeans == 3, 1], s = 100, c = 'cyan', label = 'Cluster 4' ) \n",
    "plt.scatter(X[y_kmeans == 4, 0], X[y_kmeans == 4, 1], s = 100, c = 'magenta', label = 'Cluster 5' ) "
   ]
  },
  {
   "cell_type": "markdown",
   "metadata": {},
   "source": [
    "Dibujamos los centroides, de igual manera que los puntos de datos, solo que esta vez vamos a usar el atributo `kmeans.cluster_centers_` que retorna las coordenadas del centroide\n"
   ]
  },
  {
   "cell_type": "code",
   "execution_count": 88,
   "metadata": {},
   "outputs": [],
   "source": [
    "plt.scatter(kmeans.cluster_centers_[:, 0], kmeans.cluster_centers_[:, 1], s= 300, c='yellow', label='Centroids')\n",
    "# Adicionamos un titulo\n",
    "plt.title('Clusters of clients')\n",
    "\n",
    "# Ponemos el nombre al eje x\n",
    "plt.xlabel('Annual Income (k$)')\n",
    "\n",
    "# Ponemos el nombre al eje y\n",
    "plt.ylabel('Spendijng Score (1-100)')\n",
    "\n",
    "plt.legend()\n",
    "\n",
    "# Y por ultimo pero no menos importante desplegamos el gráfico para nuestros 5 clústeres \n",
    "plt.show()"
   ]
  },
  {
   "cell_type": "markdown",
   "metadata": {},
   "source": [
    "\n",
    "\n",
    "\n",
    "![alt text](https://cldup.com/hAByIt8chd-2000x2000.png \"Clusters para seleccion de grupos de clientes por ingresos anual\")\n",
    "\n"
   ]
  },
  {
   "cell_type": "markdown",
   "metadata": {},
   "source": [
    "Miremos los resultados\n",
    "\n",
    "- Cluster 1: Rojo\n",
    "\n",
    "Los clientes del cluster 1 tienen altos ingresos (**Annual Income**) y no puntaje de gastos o compras (**spending score**)\n",
    "\n",
    "En este cluster, los clientes ganan altos ingresos pero no gastan mucho dinero. \n",
    "\n",
    "Podemos llamar a este cluster 1, **el cluster de Clientes cuidadosos**\n",
    "\n",
    "- Cluster 2: Azúl\n",
    "\n",
    "Los clientes del cluster 2 tienen ingresos promedio y tienen un gasto promedio\n",
    "Podemos llamar a este cluster 2, **el cluster de clientes estándar*\n",
    "\n",
    "- Cluster 3: Verde\n",
    "\n",
    "Los clientes del cluster 3 tienen ingresos altos y tienen un gasto alto\n",
    "Este cluster de clientes es la población objetivo potencial de las campañas de marketing del\n",
    "centro comercial\n",
    "Sería muy útil para todos entender que tipo de productos compran los clientes en este clúster \n",
    "POdemos llamar a este cluster **Target**\n",
    "\n",
    "---\n",
    "\n",
    "Eventualmente podemos pensar en los nombres para los otros clústers \n",
    "\n",
    "- Cluster 4: Azul clarito \n",
    "\n",
    "Los clientes del cluster 4 tienen bajos ingresos pero alto puntaje de gasto \n",
    "POdemos llamar a los clientes de este cluster **No cuidadosos**\n",
    "\n",
    "- Cluster 5: Magenta\n",
    "\n",
    "Los clientes del cluster 5 tienen bajos ingresos y bajos gastos\n",
    "POdemos llamar a los clientes de este cluster **Clientes sensibles**\n",
    "\n"
   ]
  }
 ],
 "metadata": {
  "kernelspec": {
   "display_name": "Python 3",
   "language": "python",
   "name": "python3"
  },
  "language_info": {
   "codemirror_mode": {
    "name": "ipython",
    "version": 3
   },
   "file_extension": ".py",
   "mimetype": "text/x-python",
   "name": "python",
   "nbconvert_exporter": "python",
   "pygments_lexer": "ipython3",
   "version": "3.6.5"
  }
 },
 "nbformat": 4,
 "nbformat_minor": 1
}
